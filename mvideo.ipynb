{
 "cells": [
  {
   "cell_type": "code",
   "execution_count": 1,
   "metadata": {},
   "outputs": [],
   "source": [
    "import pandas as pd\n",
    "import numpy as np\n",
    "import matplotlib.pyplot as plt\n",
    "import itertools\n",
    "import seaborn as sns\n",
    "from scipy import stats \n",
    "sns.set_theme(style=\"darkgrid\")"
   ]
  },
  {
   "cell_type": "code",
   "execution_count": 20,
   "metadata": {},
   "outputs": [
    {
     "data": {
      "text/html": [
       "<div>\n",
       "<style scoped>\n",
       "    .dataframe tbody tr th:only-of-type {\n",
       "        vertical-align: middle;\n",
       "    }\n",
       "\n",
       "    .dataframe tbody tr th {\n",
       "        vertical-align: top;\n",
       "    }\n",
       "\n",
       "    .dataframe thead th {\n",
       "        text-align: right;\n",
       "    }\n",
       "</style>\n",
       "<table border=\"1\" class=\"dataframe\">\n",
       "  <thead>\n",
       "    <tr style=\"text-align: right;\">\n",
       "      <th></th>\n",
       "      <th>work_days</th>\n",
       "      <th>age</th>\n",
       "      <th>sex</th>\n",
       "    </tr>\n",
       "  </thead>\n",
       "  <tbody>\n",
       "    <tr>\n",
       "      <th>0</th>\n",
       "      <td>5</td>\n",
       "      <td>39</td>\n",
       "      <td>\"Ж\"</td>\n",
       "    </tr>\n",
       "    <tr>\n",
       "      <th>1</th>\n",
       "      <td>4</td>\n",
       "      <td>54</td>\n",
       "      <td>\"М\"</td>\n",
       "    </tr>\n",
       "    <tr>\n",
       "      <th>2</th>\n",
       "      <td>4</td>\n",
       "      <td>26</td>\n",
       "      <td>\"М\"</td>\n",
       "    </tr>\n",
       "    <tr>\n",
       "      <th>3</th>\n",
       "      <td>5</td>\n",
       "      <td>42</td>\n",
       "      <td>\"М\"</td>\n",
       "    </tr>\n",
       "    <tr>\n",
       "      <th>4</th>\n",
       "      <td>4</td>\n",
       "      <td>29</td>\n",
       "      <td>\"М\"</td>\n",
       "    </tr>\n",
       "  </tbody>\n",
       "</table>\n",
       "</div>"
      ],
      "text/plain": [
       "  work_days age  sex\n",
       "0         5  39  \"Ж\"\n",
       "1         4  54  \"М\"\n",
       "2         4  26  \"М\"\n",
       "3         5  42  \"М\"\n",
       "4         4  29  \"М\""
      ]
     },
     "execution_count": 20,
     "metadata": {},
     "output_type": "execute_result"
    }
   ],
   "source": [
    "df = pd.read_excel('stats.xlsx',header=0)\n",
    "df[['work_days', 'age', 'sex']] = pd.DataFrame(df['Количество больничных дней,Возраст,Пол'].str.split(',').tolist())\n",
    "df = df[['work_days', 'age', 'sex']]\n",
    "df.head()"
   ]
  },
  {
   "cell_type": "code",
   "execution_count": 21,
   "metadata": {},
   "outputs": [
    {
     "name": "stdout",
     "output_type": "stream",
     "text": [
      "<class 'pandas.core.frame.DataFrame'>\n",
      "RangeIndex: 237 entries, 0 to 236\n",
      "Data columns (total 3 columns):\n",
      " #   Column     Non-Null Count  Dtype\n",
      "---  ------     --------------  -----\n",
      " 0   work_days  237 non-null    int32\n",
      " 1   age        237 non-null    int32\n",
      " 2   sex        237 non-null    int64\n",
      "dtypes: int32(2), int64(1)\n",
      "memory usage: 3.8 KB\n"
     ]
    }
   ],
   "source": [
    "dict_encoder = {'\"М\"':0, '\"Ж\"':1}\n",
    "df['sex'] = df['sex'].map(dict_encoder)\n",
    "df['work_days'] = df['work_days'].astype(int)\n",
    "df['age'] = df['age'].astype(int)\n",
    "df.info()"
   ]
  },
  {
   "cell_type": "code",
   "execution_count": 22,
   "metadata": {},
   "outputs": [],
   "source": [
    "def test_hypothesis(sample_1, sample_2, alpha):\n",
    "    n_1, n_2 = len(sample_1), len(sample_2)\n",
    "    mean_1, mean_2 = np.mean(sample_1), np.mean(sample_2)\n",
    "    var_1, var_2 = np.var(sample_1, ddof=1), np.var(sample_2, ddof=1)\n",
    "\n",
    "    var = ( ((n_1-1)*var_1) + ((n_2-1)*var_2 ) ) / (n_1+n_2-2)\n",
    "    std_error = np.sqrt(var * (1.0 / n_1 + 1.0 / n_2))\n",
    "    # t-статистика\n",
    "    t = abs(mean_1 - mean_2) / std_error\n",
    "    print('t-статистика:',t)\n",
    "\n",
    "    # t-статистика имеет распределение Стьюдента с dof степенями свободы\n",
    "    dof = n_1 + n_2 - 2\n",
    "    \n",
    "    t_c = stats.t.ppf(q=1-alpha, df=dof)\n",
    "    print(\"Критическое значение для односторонней гипотезы:\",t_c)\n",
    "\n",
    "    p = 1-stats.t.cdf(x=t, df=dof)\n",
    "    print(\"P-значение:\", p)\n",
    "\n",
    "    if t_c > t:\n",
    "        # Статистика не попадает в критическую область\n",
    "        print(f'{t_c} > {t}')\n",
    "        # Вероятность получить такое же или более экстремальное значение статистики больше, чем уровень значимости\n",
    "        print(f'({p} > {alpha})')\n",
    "        print('Вывод: нет оснований отвергать гипотезу')\n",
    "    else:\n",
    "        # Статистика попадает в критическую область\n",
    "        print(f'{t_c} < {t}')\n",
    "        # Вероятность получить такое же или более экстремальное значение статистики слишком мала\n",
    "        print(f'({p} < {alpha})')\n",
    "        print('Вывод: гипотеза отвергается в пользу альтернативы')\n"
   ]
  },
  {
   "attachments": {},
   "cell_type": "markdown",
   "metadata": {},
   "source": [
    "Гипотеза №1: Нет статистически значимой разницы в пропусках более 2 дней по болезни между мужчинами и женщинами\n",
    "\n",
    "\n",
    "Альтернатива: Мужчины пропускают в течение года более 2 рабочих дней по болезни значимо чаще женщин\n"
   ]
  },
  {
   "attachments": {},
   "cell_type": "markdown",
   "metadata": {},
   "source": [
    "Сравнение средних значений в двух выборках позволяет провести t-тест. Здесь и далее уровень значимости равен 5%"
   ]
  },
  {
   "cell_type": "code",
   "execution_count": 42,
   "metadata": {},
   "outputs": [
    {
     "data": {
      "text/plain": [
       "<seaborn.axisgrid.FacetGrid at 0x1d1c77d9310>"
      ]
     },
     "execution_count": 42,
     "metadata": {},
     "output_type": "execute_result"
    },
    {
     "data": {
      "image/png": "[encoded data removed]",
      "text/plain": [
       "<Figure size 500x500 with 1 Axes>"
      ]
     },
     "metadata": {},
     "output_type": "display_data"
    }
   ],
   "source": [
    "fem_workdays = df[df['sex']==1]['work_days']\n",
    "sns.displot(data=fem_workdays, binwidth=1)"
   ]
  },
  {
   "cell_type": "code",
   "execution_count": 44,
   "metadata": {},
   "outputs": [
    {
     "data": {
      "text/plain": [
       "<seaborn.axisgrid.FacetGrid at 0x1d1c8abcf70>"
      ]
     },
     "execution_count": 44,
     "metadata": {},
     "output_type": "execute_result"
    },
    {
     "data": {
      "image/png": "[encoded data removed]",
      "text/plain": [
       "<Figure size 500x500 with 1 Axes>"
      ]
     },
     "metadata": {},
     "output_type": "display_data"
    }
   ],
   "source": [
    "male_workdays = df[df['sex']==0]['work_days']\n",
    "sns.displot(data=male_workdays, binwidth=1)"
   ]
  },
  {
   "cell_type": "code",
   "execution_count": 45,
   "metadata": {},
   "outputs": [
    {
     "name": "stdout",
     "output_type": "stream",
     "text": [
      "t-статистика: 0.41592499748510986\n",
      "Критическое значение для односторонней гипотезы: 1.6551445337952997\n",
      "P-значение: 0.339031660516415\n",
      "1.6551445337952997 > 0.41592499748510986\n",
      "(0.339031660516415 > 0.05)\n",
      "Вывод: нет оснований отвергать гипотезу\n"
     ]
    }
   ],
   "source": [
    "male_sample = df[(df['work_days'] > 2) & (df['sex']==0)]['work_days']\n",
    "female_sample = df[(df['work_days'] > 2) & (df['sex']==1)]['work_days']\n",
    "alpha = 0.05\n",
    "test_hypothesis(male_sample, female_sample, alpha)"
   ]
  },
  {
   "attachments": {},
   "cell_type": "markdown",
   "metadata": {},
   "source": [
    "Гипотеза №2: Нет статистически значимой разницы в пропусках более 2 дней по болезни между людьми старше и младше 35 лет\n",
    "\n",
    "Альтернатива: Работники старше 35 лет пропускают в течение года более 2 рабочих дней по болезни значимо чаще своих более молодых коллег\n"
   ]
  },
  {
   "cell_type": "code",
   "execution_count": 46,
   "metadata": {},
   "outputs": [
    {
     "data": {
      "text/plain": [
       "<seaborn.axisgrid.FacetGrid at 0x1d1c628bf40>"
      ]
     },
     "execution_count": 46,
     "metadata": {},
     "output_type": "execute_result"
    },
    {
     "data": {
      "image/png": "[encoded data removed]",
      "text/plain": [
       "<Figure size 500x500 with 1 Axes>"
      ]
     },
     "metadata": {},
     "output_type": "display_data"
    }
   ],
   "source": [
    "young_workdays = df[df['age']<=35]['work_days']\n",
    "sns.displot(data=young_workdays, binwidth=1)"
   ]
  },
  {
   "cell_type": "code",
   "execution_count": 47,
   "metadata": {},
   "outputs": [
    {
     "data": {
      "text/plain": [
       "<seaborn.axisgrid.FacetGrid at 0x1d1c8b70340>"
      ]
     },
     "execution_count": 47,
     "metadata": {},
     "output_type": "execute_result"
    },
    {
     "data": {
      "image/png": "[encoded data removed]",
      "text/plain": [
       "<Figure size 500x500 with 1 Axes>"
      ]
     },
     "metadata": {},
     "output_type": "display_data"
    }
   ],
   "source": [
    "old_workdays = df[df['age']>35]['work_days']\n",
    "sns.displot(data=old_workdays, binwidth=1)"
   ]
  },
  {
   "cell_type": "code",
   "execution_count": 28,
   "metadata": {},
   "outputs": [
    {
     "name": "stdout",
     "output_type": "stream",
     "text": [
      "t-статистика: 0.7594348478395395\n",
      "Критическое значение для односторонней гипотезы: 1.6551445337952997\n",
      "P-значение: 0.22439614789859386\n",
      "1.6551445337952997 > 0.7594348478395395\n",
      "(0.22439614789859386 > 0.05)\n",
      "Вывод: нет оснований отвергать гипотезу\n"
     ]
    }
   ],
   "source": [
    "young_sample = df[(df['work_days'] > 2) & (df['age'] <=3 5)]['work_days']\n",
    "old_sample = df[(df['work_days'] > 2) & (df['age'] > 35)]['work_days']\n",
    "test_hypothesis(young_sample, old_sample, alpha)"
   ]
  },
  {
   "cell_type": "code",
   "execution_count": null,
   "metadata": {},
   "outputs": [],
   "source": []
  }
 ],
 "metadata": {
  "kernelspec": {
   "display_name": ".venv",
   "language": "python",
   "name": "python3"
  },
  "language_info": {
   "codemirror_mode": {
    "name": "ipython",
    "version": 3
   },
   "file_extension": ".py",
   "mimetype": "text/x-python",
   "name": "python",
   "nbconvert_exporter": "python",
   "pygments_lexer": "ipython3",
   "version": "3.9.6"
  },
  "orig_nbformat": 4
 },
 "nbformat": 4,
 "nbformat_minor": 2
}
