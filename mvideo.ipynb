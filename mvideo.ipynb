{
 "cells": [
  {
   "cell_type": "code",
   "execution_count": 5,
   "metadata": {},
   "outputs": [],
   "source": [
    "import pandas as pd\n",
    "import numpy as np\n",
    "import matplotlib.pyplot as plt\n",
    "import itertools\n",
    "import seaborn as sns\n",
    "from scipy import stats "
   ]
  },
  {
   "cell_type": "code",
   "execution_count": 6,
   "metadata": {},
   "outputs": [],
   "source": [
    "ddf = pd.read_csv('here.csv')"
   ]
  },
  {
   "cell_type": "code",
   "execution_count": 7,
   "metadata": {},
   "outputs": [
    {
     "name": "stdout",
     "output_type": "stream",
     "text": [
      "  Количество больничных дней,Возраст,Пол\n",
      "0                               5,39,\"Ж\"\n",
      "1                               4,54,\"М\"\n",
      "2                               4,26,\"М\"\n",
      "3                               5,42,\"М\"\n",
      "4                               4,29,\"М\"\n"
     ]
    },
    {
     "data": {
      "text/html": [
       "<div>\n",
       "<style scoped>\n",
       "    .dataframe tbody tr th:only-of-type {\n",
       "        vertical-align: middle;\n",
       "    }\n",
       "\n",
       "    .dataframe tbody tr th {\n",
       "        vertical-align: top;\n",
       "    }\n",
       "\n",
       "    .dataframe thead th {\n",
       "        text-align: right;\n",
       "    }\n",
       "</style>\n",
       "<table border=\"1\" class=\"dataframe\">\n",
       "  <thead>\n",
       "    <tr style=\"text-align: right;\">\n",
       "      <th></th>\n",
       "      <th>Количество больничных дней</th>\n",
       "      <th>Возраст</th>\n",
       "      <th>Пол</th>\n",
       "    </tr>\n",
       "  </thead>\n",
       "  <tbody>\n",
       "    <tr>\n",
       "      <th>0</th>\n",
       "      <td>5</td>\n",
       "      <td>39</td>\n",
       "      <td>\"Ж\"</td>\n",
       "    </tr>\n",
       "    <tr>\n",
       "      <th>1</th>\n",
       "      <td>4</td>\n",
       "      <td>54</td>\n",
       "      <td>\"М\"</td>\n",
       "    </tr>\n",
       "    <tr>\n",
       "      <th>2</th>\n",
       "      <td>4</td>\n",
       "      <td>26</td>\n",
       "      <td>\"М\"</td>\n",
       "    </tr>\n",
       "    <tr>\n",
       "      <th>3</th>\n",
       "      <td>5</td>\n",
       "      <td>42</td>\n",
       "      <td>\"М\"</td>\n",
       "    </tr>\n",
       "    <tr>\n",
       "      <th>4</th>\n",
       "      <td>4</td>\n",
       "      <td>29</td>\n",
       "      <td>\"М\"</td>\n",
       "    </tr>\n",
       "  </tbody>\n",
       "</table>\n",
       "</div>"
      ],
      "text/plain": [
       "  Количество больничных дней Возраст  Пол\n",
       "0                          5      39  \"Ж\"\n",
       "1                          4      54  \"М\"\n",
       "2                          4      26  \"М\"\n",
       "3                          5      42  \"М\"\n",
       "4                          4      29  \"М\""
      ]
     },
     "execution_count": 7,
     "metadata": {},
     "output_type": "execute_result"
    }
   ],
   "source": [
    "df = pd.read_excel('stats.xlsx',header=0)\n",
    "df.to_csv('here.csv')\n",
    "print(df.head())\n",
    "df[['Количество больничных дней', 'Возраст', 'Пол']] = pd.DataFrame(df['Количество больничных дней,Возраст,Пол'].str.split(',').tolist())\n",
    "df = df[['Количество больничных дней', 'Возраст', 'Пол']]\n",
    "df.head()"
   ]
  },
  {
   "cell_type": "code",
   "execution_count": 8,
   "metadata": {},
   "outputs": [
    {
     "data": {
      "text/html": [
       "<div>\n",
       "<style scoped>\n",
       "    .dataframe tbody tr th:only-of-type {\n",
       "        vertical-align: middle;\n",
       "    }\n",
       "\n",
       "    .dataframe tbody tr th {\n",
       "        vertical-align: top;\n",
       "    }\n",
       "\n",
       "    .dataframe thead th {\n",
       "        text-align: right;\n",
       "    }\n",
       "</style>\n",
       "<table border=\"1\" class=\"dataframe\">\n",
       "  <thead>\n",
       "    <tr style=\"text-align: right;\">\n",
       "      <th></th>\n",
       "      <th>Количество больничных дней</th>\n",
       "      <th>Возраст</th>\n",
       "      <th>Пол</th>\n",
       "    </tr>\n",
       "  </thead>\n",
       "  <tbody>\n",
       "    <tr>\n",
       "      <th>0</th>\n",
       "      <td>5</td>\n",
       "      <td>39</td>\n",
       "      <td>1</td>\n",
       "    </tr>\n",
       "    <tr>\n",
       "      <th>1</th>\n",
       "      <td>4</td>\n",
       "      <td>54</td>\n",
       "      <td>0</td>\n",
       "    </tr>\n",
       "    <tr>\n",
       "      <th>2</th>\n",
       "      <td>4</td>\n",
       "      <td>26</td>\n",
       "      <td>0</td>\n",
       "    </tr>\n",
       "    <tr>\n",
       "      <th>3</th>\n",
       "      <td>5</td>\n",
       "      <td>42</td>\n",
       "      <td>0</td>\n",
       "    </tr>\n",
       "    <tr>\n",
       "      <th>4</th>\n",
       "      <td>4</td>\n",
       "      <td>29</td>\n",
       "      <td>0</td>\n",
       "    </tr>\n",
       "  </tbody>\n",
       "</table>\n",
       "</div>"
      ],
      "text/plain": [
       "  Количество больничных дней Возраст  Пол\n",
       "0                          5      39    1\n",
       "1                          4      54    0\n",
       "2                          4      26    0\n",
       "3                          5      42    0\n",
       "4                          4      29    0"
      ]
     },
     "execution_count": 8,
     "metadata": {},
     "output_type": "execute_result"
    }
   ],
   "source": [
    "dict_encoder = {'\"М\"':0, '\"Ж\"':1}\n",
    "df['Пол'] = df['Пол'].map(dict_encoder)\n",
    "df.head()"
   ]
  },
  {
   "cell_type": "code",
   "execution_count": 25,
   "metadata": {},
   "outputs": [
    {
     "data": {
      "text/html": [
       "<div>\n",
       "<style scoped>\n",
       "    .dataframe tbody tr th:only-of-type {\n",
       "        vertical-align: middle;\n",
       "    }\n",
       "\n",
       "    .dataframe tbody tr th {\n",
       "        vertical-align: top;\n",
       "    }\n",
       "\n",
       "    .dataframe thead th {\n",
       "        text-align: right;\n",
       "    }\n",
       "</style>\n",
       "<table border=\"1\" class=\"dataframe\">\n",
       "  <thead>\n",
       "    <tr style=\"text-align: right;\">\n",
       "      <th></th>\n",
       "      <th>Количество больничных дней</th>\n",
       "      <th>Возраст</th>\n",
       "      <th>Пол</th>\n",
       "    </tr>\n",
       "  </thead>\n",
       "  <tbody>\n",
       "    <tr>\n",
       "      <th>count</th>\n",
       "      <td>237.000000</td>\n",
       "      <td>237.000000</td>\n",
       "      <td>237.000000</td>\n",
       "    </tr>\n",
       "    <tr>\n",
       "      <th>mean</th>\n",
       "      <td>3.257384</td>\n",
       "      <td>40.181435</td>\n",
       "      <td>0.413502</td>\n",
       "    </tr>\n",
       "    <tr>\n",
       "      <th>std</th>\n",
       "      <td>1.807821</td>\n",
       "      <td>6.875157</td>\n",
       "      <td>0.493504</td>\n",
       "    </tr>\n",
       "    <tr>\n",
       "      <th>min</th>\n",
       "      <td>0.000000</td>\n",
       "      <td>23.000000</td>\n",
       "      <td>0.000000</td>\n",
       "    </tr>\n",
       "    <tr>\n",
       "      <th>25%</th>\n",
       "      <td>2.000000</td>\n",
       "      <td>36.000000</td>\n",
       "      <td>0.000000</td>\n",
       "    </tr>\n",
       "    <tr>\n",
       "      <th>50%</th>\n",
       "      <td>3.000000</td>\n",
       "      <td>41.000000</td>\n",
       "      <td>0.000000</td>\n",
       "    </tr>\n",
       "    <tr>\n",
       "      <th>75%</th>\n",
       "      <td>4.000000</td>\n",
       "      <td>45.000000</td>\n",
       "      <td>1.000000</td>\n",
       "    </tr>\n",
       "    <tr>\n",
       "      <th>max</th>\n",
       "      <td>8.000000</td>\n",
       "      <td>60.000000</td>\n",
       "      <td>1.000000</td>\n",
       "    </tr>\n",
       "  </tbody>\n",
       "</table>\n",
       "</div>"
      ],
      "text/plain": [
       "       Количество больничных дней     Возраст         Пол\n",
       "count                  237.000000  237.000000  237.000000\n",
       "mean                     3.257384   40.181435    0.413502\n",
       "std                      1.807821    6.875157    0.493504\n",
       "min                      0.000000   23.000000    0.000000\n",
       "25%                      2.000000   36.000000    0.000000\n",
       "50%                      3.000000   41.000000    0.000000\n",
       "75%                      4.000000   45.000000    1.000000\n",
       "max                      8.000000   60.000000    1.000000"
      ]
     },
     "execution_count": 25,
     "metadata": {},
     "output_type": "execute_result"
    }
   ],
   "source": [
    "df.describe()"
   ]
  },
  {
   "cell_type": "code",
   "execution_count": 30,
   "metadata": {},
   "outputs": [
    {
     "data": {
      "text/plain": [
       "<AxesSubplot: >"
      ]
     },
     "execution_count": 30,
     "metadata": {},
     "output_type": "execute_result"
    },
    {
     "data": {
      "image/png": "[encoded data removed]",
      "text/plain": [
       "<Figure size 640x480 with 1 Axes>"
      ]
     },
     "metadata": {},
     "output_type": "display_data"
    }
   ],
   "source": [
    "df['Количество больничных дней'].hist(bins=8)"
   ]
  },
  {
   "cell_type": "code",
   "execution_count": 9,
   "metadata": {},
   "outputs": [
    {
     "name": "stdout",
     "output_type": "stream",
     "text": [
      "<class 'pandas.core.frame.DataFrame'>\n",
      "RangeIndex: 237 entries, 0 to 236\n",
      "Data columns (total 3 columns):\n",
      " #   Column                      Non-Null Count  Dtype \n",
      "---  ------                      --------------  ----- \n",
      " 0   Количество больничных дней  237 non-null    object\n",
      " 1   Возраст                     237 non-null    object\n",
      " 2   Пол                         237 non-null    int64 \n",
      "dtypes: int64(1), object(2)\n",
      "memory usage: 5.7+ KB\n"
     ]
    }
   ],
   "source": [
    "df.info()"
   ]
  },
  {
   "cell_type": "code",
   "execution_count": null,
   "metadata": {},
   "outputs": [],
   "source": []
  },
  {
   "cell_type": "code",
   "execution_count": 34,
   "metadata": {},
   "outputs": [
    {
     "data": {
      "text/plain": [
       "0.0"
      ]
     },
     "execution_count": 34,
     "metadata": {},
     "output_type": "execute_result"
    }
   ],
   "source": [
    "female_sample = df[(df['Количество больничных дней']>7) & (df['Пол']==1)]['Количество больничных дней']\n",
    "np.var(female_sample)"
   ]
  },
  {
   "cell_type": "code",
   "execution_count": 10,
   "metadata": {},
   "outputs": [],
   "source": [
    "df['Количество больничных дней'] = df['Количество больничных дней'].astype(int)\n",
    "df['Возраст'] = df['Возраст'].astype(int)"
   ]
  },
  {
   "cell_type": "code",
   "execution_count": 11,
   "metadata": {},
   "outputs": [],
   "source": [
    "import numpy as np"
   ]
  },
  {
   "cell_type": "code",
   "execution_count": 12,
   "metadata": {},
   "outputs": [
    {
     "data": {
      "text/plain": [
       "(4.333333333333333, 4.2388059701492535)"
      ]
     },
     "execution_count": 12,
     "metadata": {},
     "output_type": "execute_result"
    }
   ],
   "source": [
    "m_male=df[(df['Количество больничных дней']>2) & (df['Пол']==0)]['Количество больничных дней'].mean()\n",
    "n_male = len(df[(df['Количество больничных дней']>2) & (df['Пол']==0)]['Количество больничных дней'])\n",
    "n_female = len(df[(df['Количество больничных дней']>2) & (df['Пол']==1)]['Количество больничных дней'])\n",
    "m_female=df[(df['Количество больничных дней']>2) & (df['Пол']==1)]['Количество больничных дней'].mean()\n",
    "m_male, m_female"
   ]
  },
  {
   "cell_type": "code",
   "execution_count": 13,
   "metadata": {},
   "outputs": [
    {
     "name": "stdout",
     "output_type": "stream",
     "text": [
      "1.4753666755451804 1.2683746726684697\n"
     ]
    }
   ],
   "source": [
    "std_male = df[(df['Количество больничных дней']>2) & (df['Пол']==0)]['Количество больничных дней'].std()\n",
    "std_female = df[(df['Количество больничных дней']>2) & (df['Пол']==1)]['Количество больничных дней'].std()\n",
    "stdd = 0\n",
    "for i in df[(df['Количество больничных дней']>2) & (df['Пол']==0)]['Количество больничных дней']:\n",
    "    stdd+= (i - m_male)**2\n",
    "stdd /= len(df[(df['Количество больничных дней']>2) & (df['Пол']==0)]['Количество больничных дней'])-1\n",
    "stdd = np.sqrt(stdd)\n",
    "print(std_male, std_female)"
   ]
  },
  {
   "cell_type": "code",
   "execution_count": 35,
   "metadata": {},
   "outputs": [
    {
     "name": "stdout",
     "output_type": "stream",
     "text": [
      "sample_1 mean: 4.3333\n",
      "sample_2 mean: 4.2388\n",
      "variance of sample_1: 2.1767\n",
      "variance of sample_2: 1.6088\n",
      "pooled sample variance: 1.9251394036528766\n",
      "standard error: 0.22727021399444403\n"
     ]
    }
   ],
   "source": [
    "male_sample = df[(df['Количество больничных дней']>2) & (df['Пол']==0)]['Количество больничных дней']\n",
    "female_sample = df[(df['Количество больничных дней']>2) & (df['Пол']==1)]['Количество больничных дней']\n",
    "n_male, n_female = len(male_sample), len(female_sample)\n",
    "mean_male, mean_female = np.mean(male_sample), np.mean(female_sample)\n",
    "var_male, var_female= np.var(male_sample, ddof=1), np.var(female_sample, ddof=1)\n",
    "# pooled sample variance\n",
    "var = ( ((n_male-1)*var_male) + ((n_female-1)*var_female) ) / (n_male+n_female-2)\n",
    "# standard error\n",
    "std_error = np.sqrt(var * (1.0 / n_male + 1.0 / n_female))\n",
    " \n",
    "print(\"sample_1 mean:\",np.round(mean_male,4))\n",
    "print(\"sample_2 mean:\",np.round(mean_female,4))\n",
    "print(\"variance of sample_1:\",np.round(var_male,4))\n",
    "print(\"variance of sample_2:\",np.round(var_female,4))\n",
    "print(\"pooled sample variance:\",var)\n",
    "print(\"standard error:\",std_error)"
   ]
  },
  {
   "cell_type": "code",
   "execution_count": 23,
   "metadata": {},
   "outputs": [
    {
     "name": "stdout",
     "output_type": "stream",
     "text": [
      "t static: 0.41592499748510986\n",
      "Critical value for t two tailed: 1.976013177679155\n",
      "Critical value for t one tailed: 1.6551445337952997\n",
      "p-value for two tailed: 0.67806332103283\n",
      "p-value for one tailed: 0.339031660516415\n"
     ]
    }
   ],
   "source": [
    "# calculate t statistics\n",
    "t = abs(mean_male - mean_female) / std_error\n",
    "print('t static:',t)\n",
    "# two-tailed critical value at alpha = 0.05\n",
    "dof = n_female+n_male-2\n",
    "t_c = stats.t.ppf(q=0.975, df=dof)\n",
    "print(\"Critical value for t two tailed:\",t_c)\n",
    "\n",
    "# one-tailed critical value at alpha = 0.05\n",
    "t_c = stats.t.ppf(q=0.95, df=dof)\n",
    "print(\"Critical value for t one tailed:\",t_c)\n",
    " \n",
    "# get two-tailed p value\n",
    "p_two = 2*(1-stats.t.cdf(x=t, df=dof))\n",
    "print(\"p-value for two tailed:\",p_two)\n",
    " \n",
    "# get one-tailed p value\n",
    "p_one = 1-stats.t.cdf(x=t, df=dof)\n",
    "print(\"p-value for one tailed:\",p_one)"
   ]
  },
  {
   "cell_type": "code",
   "execution_count": 37,
   "metadata": {},
   "outputs": [],
   "source": [
    "fem = df[df['Пол']==1]['Количество больничных дней']\n",
    "fem.value_counts().sort_index()"
   ]
  },
  {
   "cell_type": "code",
   "execution_count": 43,
   "metadata": {},
   "outputs": [
    {
     "data": {
      "text/plain": [
       "0     1\n",
       "1    14\n",
       "2    16\n",
       "3    23\n",
       "4    23\n",
       "5     8\n",
       "6     9\n",
       "7     3\n",
       "8     1\n",
       "Name: Количество больничных дней, dtype: int64"
      ]
     },
     "execution_count": 43,
     "metadata": {},
     "output_type": "execute_result"
    },
    {
     "data": {
      "image/png": "[encoded data removed]",
      "text/plain": [
       "<Figure size 640x480 with 1 Axes>"
      ]
     },
     "metadata": {},
     "output_type": "display_data"
    }
   ],
   "source": [
    "fem = df[df['Пол']==1]['Количество больничных дней']\n",
    "fem_hist = fem.value_counts().sort_index()\n",
    "fem_hist.columns = ['a', 'b']\n",
    "fem_hist.plot(kind='bar')\n",
    "fem_hist"
   ]
  }
 ],
 "metadata": {
  "kernelspec": {
   "display_name": ".venv",
   "language": "python",
   "name": "python3"
  },
  "language_info": {
   "codemirror_mode": {
    "name": "ipython",
    "version": 3
   },
   "file_extension": ".py",
   "mimetype": "text/x-python",
   "name": "python",
   "nbconvert_exporter": "python",
   "pygments_lexer": "ipython3",
   "version": "3.9.6"
  },
  "orig_nbformat": 4
 },
 "nbformat": 4,
 "nbformat_minor": 2
}
